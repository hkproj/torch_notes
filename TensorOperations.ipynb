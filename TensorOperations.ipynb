{
 "cells": [
  {
   "cell_type": "markdown",
   "source": [
    "# PyTorch tensor cheatsheet"
   ],
   "metadata": {
    "collapsed": false
   }
  },
  {
   "cell_type": "markdown",
   "source": [
    "## Tensor creation / initialization"
   ],
   "metadata": {
    "collapsed": false
   }
  },
  {
   "cell_type": "code",
   "execution_count": 94,
   "outputs": [],
   "source": [
    "import torch\n",
    "import numpy as np"
   ],
   "metadata": {
    "collapsed": false
   }
  },
  {
   "cell_type": "code",
   "execution_count": 95,
   "outputs": [
    {
     "data": {
      "text/plain": "tensor([[2.6805e-34, 0.0000e+00, 3.2908e-34, 0.0000e+00],\n        [4.4842e-44, 0.0000e+00, 8.9683e-44, 0.0000e+00],\n        [3.2923e-34, 0.0000e+00, 1.4013e-44, 1.6255e-43]])"
     },
     "execution_count": 95,
     "metadata": {},
     "output_type": "execute_result"
    }
   ],
   "source": [
    "# Empty tensor with 3 rows and 4 columns, initialized with random values taken from memory location where it is allocated.\n",
    "torch.empty(3,4)"
   ],
   "metadata": {
    "collapsed": false
   }
  },
  {
   "cell_type": "code",
   "execution_count": 96,
   "outputs": [
    {
     "data": {
      "text/plain": "tensor([[0., 0., 0., 0., 0., 0.],\n        [0., 0., 0., 0., 0., 0.],\n        [0., 0., 0., 0., 0., 0.],\n        [0., 0., 0., 0., 0., 0.],\n        [0., 0., 0., 0., 0., 0.]])"
     },
     "execution_count": 96,
     "metadata": {},
     "output_type": "execute_result"
    }
   ],
   "source": [
    "# Tensor of shape 5 rows and 6 columns filled up with zeroes\n",
    "torch.zeros(5,6)"
   ],
   "metadata": {
    "collapsed": false
   }
  },
  {
   "cell_type": "code",
   "execution_count": 97,
   "outputs": [
    {
     "data": {
      "text/plain": "tensor([[[0.5823, 0.3706, 0.9073, 0.0460],\n         [0.4166, 0.0042, 0.2165, 0.0958]],\n\n        [[0.6613, 0.8419, 0.7475, 0.2862],\n         [0.1606, 0.7867, 0.3439, 0.4191]],\n\n        [[0.4888, 0.3456, 0.3860, 0.8429],\n         [0.2866, 0.2567, 0.3943, 0.7498]]])"
     },
     "execution_count": 97,
     "metadata": {},
     "output_type": "execute_result"
    }
   ],
   "source": [
    "# Three-dimensional tensor with 3 array, each of them containing two arrays and each of them containing 4 values\n",
    "torch.rand(3,2,4)"
   ],
   "metadata": {
    "collapsed": false
   }
  },
  {
   "cell_type": "code",
   "execution_count": 98,
   "outputs": [
    {
     "data": {
      "text/plain": "tensor([[1., 1., 1.],\n        [1., 1., 1.],\n        [1., 1., 1.]])"
     },
     "execution_count": 98,
     "metadata": {},
     "output_type": "execute_result"
    }
   ],
   "source": [
    "# Array with only ones\n",
    "torch.ones(3,3)"
   ],
   "metadata": {
    "collapsed": false
   }
  },
  {
   "cell_type": "code",
   "execution_count": 99,
   "outputs": [
    {
     "name": "stdout",
     "output_type": "stream",
     "text": [
      "tensor([0, 1, 2, 3, 4])\n",
      "tensor([1, 3, 5, 7, 9])\n"
     ]
    }
   ],
   "source": [
    "print (torch.arange(5)) # Range starting from 0 (inclusive) up to 5 (exclusive)\n",
    "print (torch.arange(1, 10, 2)) # Range starting from 1 (inclusive) up to 10 (exclusive) and with step 2"
   ],
   "metadata": {
    "collapsed": false
   }
  },
  {
   "cell_type": "code",
   "execution_count": 100,
   "outputs": [
    {
     "data": {
      "text/plain": "tensor([0.1000, 0.1368, 0.1737, 0.2105, 0.2474, 0.2842, 0.3211, 0.3579, 0.3947,\n        0.4316, 0.4684, 0.5053, 0.5421, 0.5789, 0.6158, 0.6526, 0.6895, 0.7263,\n        0.7632, 0.8000])"
     },
     "execution_count": 100,
     "metadata": {},
     "output_type": "execute_result"
    }
   ],
   "source": [
    "# 20 equally-spaced values starting from 0.1 up to 0.8\n",
    "torch.linspace(start=0.1, end=0.8, steps=20)"
   ],
   "metadata": {
    "collapsed": false
   }
  },
  {
   "cell_type": "code",
   "execution_count": 101,
   "outputs": [
    {
     "data": {
      "text/plain": "tensor([[ 1.3028,  0.1192,  0.7775],\n        [-0.2917,  2.0175,  0.6331],\n        [-1.0684,  1.8255, -2.7504]])"
     },
     "execution_count": 101,
     "metadata": {},
     "output_type": "execute_result"
    }
   ],
   "source": [
    "# Samples from a normal distribution of mean 0 and variance 1\n",
    "torch.normal(mean=0, std=1, size=(3,3))"
   ],
   "metadata": {
    "collapsed": false
   }
  },
  {
   "cell_type": "code",
   "execution_count": 102,
   "outputs": [
    {
     "name": "stdout",
     "output_type": "stream",
     "text": [
      "tensor([4., 4., 4.])\n",
      "tensor([[4., 0., 0.],\n",
      "        [0., 4., 0.],\n",
      "        [0., 0., 4.]])\n"
     ]
    }
   ],
   "source": [
    "# Create a tensor of size 3, containing only the number 4 and then use it as a diagonal of a matrix\n",
    "x = torch.ones(3)*4\n",
    "print (x)\n",
    "print (torch.diag(x))"
   ],
   "metadata": {
    "collapsed": false
   }
  },
  {
   "cell_type": "code",
   "execution_count": 103,
   "outputs": [
    {
     "name": "stdout",
     "output_type": "stream",
     "text": [
      "Bool: \n",
      "tensor([False,  True,  True,  True,  True,  True,  True,  True,  True,  True])\n",
      "Short: \n",
      "tensor([0, 1, 2, 3, 4, 5, 6, 7, 8, 9], dtype=torch.int16)\n",
      "Long: \n",
      "tensor([0, 1, 2, 3, 4, 5, 6, 7, 8, 9])\n",
      "Float: \n",
      "tensor([0., 1., 2., 3., 4., 5., 6., 7., 8., 9.])\n",
      "Double: \n",
      "tensor([0., 1., 2., 3., 4., 5., 6., 7., 8., 9.], dtype=torch.float64)\n"
     ]
    }
   ],
   "source": [
    "# Convert into different data types\n",
    "\n",
    "x = torch.arange(10)\n",
    "print ('Bool: ')\n",
    "print (x.bool())\n",
    "\n",
    "print ('Short: ')\n",
    "print (x.short())\n",
    "\n",
    "print ('Long: ')\n",
    "print (x.long())\n",
    "\n",
    "print ('Float: ')\n",
    "print (x.float())\n",
    "\n",
    "print ('Double: ')\n",
    "print (x.double())"
   ],
   "metadata": {
    "collapsed": false
   }
  },
  {
   "cell_type": "markdown",
   "source": [
    "## Convert between Numpy and Torch"
   ],
   "metadata": {
    "collapsed": false
   }
  },
  {
   "cell_type": "code",
   "execution_count": 104,
   "outputs": [],
   "source": [
    "np_array = np.zeros((3,3))\n",
    "tensor = torch.tensor(np_array)\n",
    "np_array_again = tensor.numpy()"
   ],
   "metadata": {
    "collapsed": false
   }
  },
  {
   "cell_type": "markdown",
   "source": [
    "## Tensor math"
   ],
   "metadata": {
    "collapsed": false
   }
  },
  {
   "cell_type": "code",
   "execution_count": 105,
   "outputs": [],
   "source": [
    "x = torch.tensor([1,2,3])\n",
    "y = torch.tensor([9,8,7])"
   ],
   "metadata": {
    "collapsed": false
   }
  },
  {
   "cell_type": "code",
   "execution_count": 106,
   "outputs": [
    {
     "name": "stdout",
     "output_type": "stream",
     "text": [
      "tensor([10., 10., 10.])\n",
      "tensor([10, 10, 10])\n"
     ]
    }
   ],
   "source": [
    "#  Addition\n",
    "z1 = torch.empty(3)\n",
    "torch.add(x, y, out=z1)\n",
    "print (z1)\n",
    "z2 = torch.add(x, y)\n",
    "print (z2)"
   ],
   "metadata": {
    "collapsed": false
   }
  },
  {
   "cell_type": "code",
   "execution_count": 107,
   "outputs": [
    {
     "data": {
      "text/plain": "tensor([-8, -6, -4])"
     },
     "execution_count": 107,
     "metadata": {},
     "output_type": "execute_result"
    }
   ],
   "source": [
    "x - y"
   ],
   "metadata": {
    "collapsed": false
   }
  },
  {
   "cell_type": "code",
   "execution_count": 108,
   "outputs": [
    {
     "data": {
      "text/plain": "tensor([0.1111, 0.2500, 0.4286])"
     },
     "execution_count": 108,
     "metadata": {},
     "output_type": "execute_result"
    }
   ],
   "source": [
    "torch.true_divide(x, y) # Element-wise division"
   ],
   "metadata": {
    "collapsed": false
   }
  },
  {
   "cell_type": "code",
   "execution_count": 109,
   "outputs": [
    {
     "name": "stdout",
     "output_type": "stream",
     "text": [
      "tensor([9., 9., 9.])\n"
     ]
    },
    {
     "data": {
      "text/plain": "tensor([9., 9., 9.])"
     },
     "execution_count": 109,
     "metadata": {},
     "output_type": "execute_result"
    }
   ],
   "source": [
    "x1 = torch.zeros(3)\n",
    "t = torch.ones(3) * 9\n",
    "print (t)\n",
    "x1.add_(t)\n",
    "x1"
   ],
   "metadata": {
    "collapsed": false
   }
  },
  {
   "cell_type": "code",
   "execution_count": 110,
   "outputs": [
    {
     "data": {
      "text/plain": "tensor([81., 81., 81.])"
     },
     "execution_count": 110,
     "metadata": {},
     "output_type": "execute_result"
    }
   ],
   "source": [
    "x1.pow(2)"
   ],
   "metadata": {
    "collapsed": false
   }
  },
  {
   "cell_type": "code",
   "execution_count": 111,
   "outputs": [
    {
     "data": {
      "text/plain": "tensor([81., 81., 81.])"
     },
     "execution_count": 111,
     "metadata": {},
     "output_type": "execute_result"
    }
   ],
   "source": [
    "x1**2"
   ],
   "metadata": {
    "collapsed": false
   }
  },
  {
   "cell_type": "code",
   "execution_count": 112,
   "outputs": [
    {
     "data": {
      "text/plain": "tensor([True, True, True])"
     },
     "execution_count": 112,
     "metadata": {},
     "output_type": "execute_result"
    }
   ],
   "source": [
    "x1>0"
   ],
   "metadata": {
    "collapsed": false
   }
  },
  {
   "cell_type": "code",
   "execution_count": 113,
   "outputs": [
    {
     "data": {
      "text/plain": "tensor([False, False, False])"
     },
     "execution_count": 113,
     "metadata": {},
     "output_type": "execute_result"
    }
   ],
   "source": [
    "x1<0"
   ],
   "metadata": {
    "collapsed": false
   }
  },
  {
   "cell_type": "markdown",
   "source": [
    "## Matrix multiplication"
   ],
   "metadata": {
    "collapsed": false
   }
  },
  {
   "cell_type": "code",
   "execution_count": 114,
   "outputs": [
    {
     "data": {
      "text/plain": "tensor([[1.1030, 1.8213, 1.1683],\n        [1.2544, 1.8047, 0.7151]])"
     },
     "execution_count": 114,
     "metadata": {},
     "output_type": "execute_result"
    }
   ],
   "source": [
    "x1 = torch.rand((2,5))\n",
    "x2 = torch.rand((5,3))\n",
    "torch.mm(x1, x2) # New shape is (2,3)"
   ],
   "metadata": {
    "collapsed": false
   }
  },
  {
   "cell_type": "code",
   "execution_count": 115,
   "outputs": [
    {
     "data": {
      "text/plain": "tensor([[1.1030, 1.8213, 1.1683],\n        [1.2544, 1.8047, 0.7151]])"
     },
     "execution_count": 115,
     "metadata": {},
     "output_type": "execute_result"
    }
   ],
   "source": [
    "x1.mm(x2)"
   ],
   "metadata": {
    "collapsed": false
   }
  },
  {
   "cell_type": "code",
   "execution_count": 115,
   "outputs": [],
   "source": [],
   "metadata": {
    "collapsed": false
   }
  },
  {
   "cell_type": "code",
   "execution_count": 116,
   "outputs": [
    {
     "data": {
      "text/plain": "tensor([[0.8161, 0.6248],\n        [0.8679, 0.6892]])"
     },
     "execution_count": 116,
     "metadata": {},
     "output_type": "execute_result"
    }
   ],
   "source": [
    "m1 = torch.rand(2,2)\n",
    "m1.matrix_power(4)"
   ],
   "metadata": {
    "collapsed": false
   }
  },
  {
   "cell_type": "code",
   "execution_count": 117,
   "outputs": [
    {
     "data": {
      "text/plain": "tensor([[0.8161, 0.6248],\n        [0.8679, 0.6892]])"
     },
     "execution_count": 117,
     "metadata": {},
     "output_type": "execute_result"
    }
   ],
   "source": [
    "# Equivalent to m1.matrix_power(4)\n",
    "m1.mm(m1.mm(m1.mm(m1)))"
   ],
   "metadata": {
    "collapsed": false
   }
  },
  {
   "cell_type": "code",
   "execution_count": 118,
   "outputs": [
    {
     "data": {
      "text/plain": "tensor([[0.1973, 0.3736],\n        [0.7207, 0.1024]])"
     },
     "execution_count": 118,
     "metadata": {},
     "output_type": "execute_result"
    }
   ],
   "source": [
    "# Element-wise multiplication\n",
    "m1*m1"
   ],
   "metadata": {
    "collapsed": false
   }
  },
  {
   "cell_type": "code",
   "execution_count": 121,
   "outputs": [
    {
     "name": "stdout",
     "output_type": "stream",
     "text": [
      "tensor([1, 2, 3])\n",
      "tensor([9, 8, 7])\n",
      "tensor(46)\n"
     ]
    }
   ],
   "source": [
    "print (x)\n",
    "print (y)\n",
    "print (x.dot(y)) # Equivalent to 1*9 + 2*8 + 3*7 = 46"
   ],
   "metadata": {
    "collapsed": false
   }
  },
  {
   "cell_type": "markdown",
   "source": [
    "## Batch matrix multiplication"
   ],
   "metadata": {
    "collapsed": false
   }
  },
  {
   "cell_type": "code",
   "execution_count": 125,
   "outputs": [
    {
     "data": {
      "text/plain": "torch.Size([32, 9, 7])"
     },
     "execution_count": 125,
     "metadata": {},
     "output_type": "execute_result"
    }
   ],
   "source": [
    "b=32\n",
    "m=10\n",
    "n=9\n",
    "p=7\n",
    "tensor1 = torch.rand((b,n,m))\n",
    "tensor2 = torch.rand((b,m,p))\n",
    "torch.bmm(tensor1, tensor2).shape # New shape: bxnxp"
   ],
   "metadata": {
    "collapsed": false
   }
  },
  {
   "cell_type": "markdown",
   "source": [
    "## Broadcasting"
   ],
   "metadata": {
    "collapsed": false
   }
  },
  {
   "cell_type": "code",
   "execution_count": 139,
   "outputs": [],
   "source": [
    "x1 = torch.rand((1,5,5))\n",
    "x2 = torch.rand((2,1,5))"
   ],
   "metadata": {
    "collapsed": false
   }
  },
  {
   "cell_type": "code",
   "execution_count": 140,
   "outputs": [
    {
     "data": {
      "text/plain": "tensor([[[-0.2675, -0.2314,  0.0805,  0.0796,  0.0539],\n         [-0.0493, -0.7033, -0.4215,  0.2517,  0.1651],\n         [-0.0872, -0.0309, -0.7419,  0.3631, -0.1257],\n         [-0.6581, -0.0087, -0.7970, -0.2541, -0.7127],\n         [-0.0335, -0.2447, -0.7296,  0.4055,  0.0095]],\n\n        [[ 0.3297, -0.2918,  0.7825, -0.2712, -0.1162],\n         [ 0.5479, -0.7637,  0.2805, -0.0991, -0.0051],\n         [ 0.5100, -0.0914, -0.0399,  0.0122, -0.2958],\n         [-0.0609, -0.0691, -0.0950, -0.6050, -0.8829],\n         [ 0.5637, -0.3052, -0.0276,  0.0547, -0.1606]]])"
     },
     "execution_count": 140,
     "metadata": {},
     "output_type": "execute_result"
    }
   ],
   "source": [
    "x1-x2"
   ],
   "metadata": {
    "collapsed": false
   }
  },
  {
   "cell_type": "code",
   "execution_count": 141,
   "outputs": [
    {
     "data": {
      "text/plain": "tensor([[[ 0.2675,  0.2314, -0.0805, -0.0796, -0.0539],\n         [ 0.0493,  0.7033,  0.4215, -0.2517, -0.1651],\n         [ 0.0872,  0.0309,  0.7419, -0.3631,  0.1257],\n         [ 0.6581,  0.0087,  0.7970,  0.2541,  0.7127],\n         [ 0.0335,  0.2447,  0.7296, -0.4055, -0.0095]],\n\n        [[-0.3297,  0.2918, -0.7825,  0.2712,  0.1162],\n         [-0.5479,  0.7637, -0.2805,  0.0991,  0.0051],\n         [-0.5100,  0.0914,  0.0399, -0.0122,  0.2958],\n         [ 0.0609,  0.0691,  0.0950,  0.6050,  0.8829],\n         [-0.5637,  0.3052,  0.0276, -0.0547,  0.1606]]])"
     },
     "execution_count": 141,
     "metadata": {},
     "output_type": "execute_result"
    }
   ],
   "source": [
    "x2-x1"
   ],
   "metadata": {
    "collapsed": false
   }
  },
  {
   "cell_type": "code",
   "execution_count": 151,
   "outputs": [
    {
     "name": "stdout",
     "output_type": "stream",
     "text": [
      "torch.Size([1, 5])\n",
      "tensor([[0.8888, 0.8930, 0.9034, 0.8210, 0.8907]])\n",
      "tensor([[0, 1, 0, 1, 1]])\n"
     ]
    }
   ],
   "source": [
    "values, indices = torch.max(x2, dim=0)\n",
    "print (values.shape)\n",
    "print (values)\n",
    "print (indices)"
   ],
   "metadata": {
    "collapsed": false
   }
  },
  {
   "cell_type": "code",
   "execution_count": 152,
   "outputs": [
    {
     "data": {
      "text/plain": "tensor(0.5756)"
     },
     "execution_count": 152,
     "metadata": {},
     "output_type": "execute_result"
    }
   ],
   "source": [
    "torch.mean(x1)"
   ],
   "metadata": {
    "collapsed": false
   }
  },
  {
   "cell_type": "code",
   "execution_count": 155,
   "outputs": [
    {
     "data": {
      "text/plain": "tensor([[[False, False, False, False, False],\n         [False, False, False, False, False],\n         [False, False, False, False, False],\n         [False, False, False, False, False],\n         [False, False, False, False, False]],\n\n        [[False, False, False, False, False],\n         [False, False, False, False, False],\n         [False, False, False, False, False],\n         [False, False, False, False, False],\n         [False, False, False, False, False]]])"
     },
     "execution_count": 155,
     "metadata": {},
     "output_type": "execute_result"
    }
   ],
   "source": [
    "torch.eq(x1,x2) # Broadcasting also works in this case"
   ],
   "metadata": {
    "collapsed": false
   }
  },
  {
   "cell_type": "code",
   "execution_count": 161,
   "outputs": [
    {
     "name": "stdout",
     "output_type": "stream",
     "text": [
      "torch.Size([1, 5, 5])\n",
      "torch.Size([1, 5, 5])\n",
      "tensor([[[0.2308, 0.1293, 0.1064, 0.2160, 0.0078],\n",
      "         [0.6213, 0.5878, 0.1615, 0.5498, 0.5948],\n",
      "         [0.8016, 0.6012, 0.1738, 0.7219, 0.7300],\n",
      "         [0.8395, 0.8016, 0.4819, 0.8332, 0.7745],\n",
      "         [0.8554, 0.8239, 0.9839, 0.8757, 0.8856]]])\n",
      "tensor([[[3, 1, 3, 3, 3],\n",
      "         [0, 4, 2, 0, 2],\n",
      "         [2, 0, 4, 1, 4],\n",
      "         [1, 2, 1, 2, 0],\n",
      "         [4, 3, 0, 4, 1]]])\n"
     ]
    }
   ],
   "source": [
    "sorted_x1, sorted_indices = torch.sort(x1, dim=1, descending=False)\n",
    "print (x1.shape)\n",
    "print (sorted_x1.shape)\n",
    "print (sorted_x1)\n",
    "print (sorted_indices)"
   ],
   "metadata": {
    "collapsed": false
   }
  },
  {
   "cell_type": "code",
   "execution_count": 164,
   "outputs": [
    {
     "data": {
      "text/plain": "tensor([[[0.5000, 0.5000, 0.5000, 0.5000, 0.5000],\n         [0.5000, 0.1293, 0.4819, 0.5000, 0.5000],\n         [0.5000, 0.5000, 0.1615, 0.5000, 0.5000],\n         [0.2308, 0.5000, 0.1064, 0.2160, 0.0078],\n         [0.5000, 0.5000, 0.1738, 0.5000, 0.5000]]])"
     },
     "execution_count": 164,
     "metadata": {},
     "output_type": "execute_result"
    }
   ],
   "source": [
    "torch.clamp(x1, min=0, max=0.5) # All values less than 0 become 0 and all values bigger than 0.5 become 0.5"
   ],
   "metadata": {
    "collapsed": false
   }
  },
  {
   "cell_type": "code",
   "execution_count": 165,
   "outputs": [
    {
     "data": {
      "text/plain": "tensor(True)"
     },
     "execution_count": 165,
     "metadata": {},
     "output_type": "execute_result"
    }
   ],
   "source": [
    "torch.any(x1>0.5)"
   ],
   "metadata": {
    "collapsed": false
   }
  },
  {
   "cell_type": "code",
   "execution_count": 171,
   "outputs": [
    {
     "data": {
      "text/plain": "tensor(False)"
     },
     "execution_count": 171,
     "metadata": {},
     "output_type": "execute_result"
    }
   ],
   "source": [
    "torch.all(x1>0.1)"
   ],
   "metadata": {
    "collapsed": false
   }
  },
  {
   "cell_type": "markdown",
   "source": [
    "## Indexing"
   ],
   "metadata": {
    "collapsed": false
   }
  },
  {
   "cell_type": "code",
   "execution_count": 172,
   "outputs": [],
   "source": [
    "batch_size = 10\n",
    "image_width = 8\n",
    "image_height = 8\n",
    "features = 12\n",
    "\n",
    "x = torch.rand((batch_size, image_width, image_height, features))"
   ],
   "metadata": {
    "collapsed": false
   }
  },
  {
   "cell_type": "code",
   "execution_count": 177,
   "outputs": [
    {
     "data": {
      "text/plain": "torch.Size([8, 8, 12])"
     },
     "execution_count": 177,
     "metadata": {},
     "output_type": "execute_result"
    }
   ],
   "source": [
    "x[0].shape # Each data item has shape 8x8x12"
   ],
   "metadata": {
    "collapsed": false
   }
  },
  {
   "cell_type": "code",
   "execution_count": 182,
   "outputs": [
    {
     "data": {
      "text/plain": "torch.Size([10, 3, 8, 12])"
     },
     "execution_count": 182,
     "metadata": {},
     "output_type": "execute_result"
    }
   ],
   "source": [
    "x[:,0:3].shape # Take only the pixels along the width (vertical pixels) from position 0 to position 3 (excluded)"
   ],
   "metadata": {
    "collapsed": false
   }
  },
  {
   "cell_type": "code",
   "execution_count": 191,
   "outputs": [
    {
     "data": {
      "text/plain": "torch.Size([10, 8, 3, 2])"
     },
     "execution_count": 191,
     "metadata": {},
     "output_type": "execute_result"
    }
   ],
   "source": [
    "x[:,:,2:5,0:2].shape # Take all the batch size, then take all the width, but only the height pixels from position 2 to 5 (excluded), and for those, consider only the features between 0 and 2 (excluded)"
   ],
   "metadata": {
    "collapsed": false
   }
  },
  {
   "cell_type": "code",
   "execution_count": 192,
   "outputs": [
    {
     "data": {
      "text/plain": "torch.Size([10, 8, 8, 3])"
     },
     "execution_count": 192,
     "metadata": {},
     "output_type": "execute_result"
    }
   ],
   "source": [
    "x[...,0:3].shape # For every picture, take only the first 4 features"
   ],
   "metadata": {
    "collapsed": false
   }
  },
  {
   "cell_type": "code",
   "execution_count": 197,
   "outputs": [
    {
     "name": "stdout",
     "output_type": "stream",
     "text": [
      "tensor([12, 15, 18])\n"
     ]
    }
   ],
   "source": [
    "x = torch.arange(start=10,end=20,step=1)\n",
    "indices = [2,5,8]\n",
    "print(x[indices])"
   ],
   "metadata": {
    "collapsed": false
   }
  },
  {
   "cell_type": "code",
   "execution_count": 207,
   "outputs": [
    {
     "name": "stdout",
     "output_type": "stream",
     "text": [
      "tensor([[0.8544, 0.7617, 0.1113, 0.3726, 0.2284, 0.6990, 0.4754],\n",
      "        [0.2534, 0.3926, 0.4926, 0.0138, 0.3614, 0.0068, 0.7978],\n",
      "        [0.6152, 0.3663, 0.8777, 0.9007, 0.2058, 0.8745, 0.4386]])\n",
      "tensor([0.8544, 0.4926])\n"
     ]
    }
   ],
   "source": [
    "x = torch.rand(3,7)\n",
    "print (x)\n",
    "rows = torch.tensor([0, 1])\n",
    "cols = torch.tensor([0, 2])\n",
    "print(x[rows,cols]) # Print element (0,0) and element (1,2)"
   ],
   "metadata": {
    "collapsed": false
   }
  },
  {
   "cell_type": "code",
   "execution_count": 208,
   "outputs": [
    {
     "name": "stdout",
     "output_type": "stream",
     "text": [
      "tensor([0, 1, 9])\n",
      "tensor([0, 2, 4, 6, 8])\n"
     ]
    }
   ],
   "source": [
    "# More advanced indexing\n",
    "x = torch.arange(10)\n",
    "print(x[(x < 2) | (x > 8)])  # will be [0, 1, 9]\n",
    "print(x[x.remainder(2) == 0])  # will be [0, 2, 4, 6, 8]"
   ],
   "metadata": {
    "collapsed": false
   }
  },
  {
   "cell_type": "code",
   "execution_count": 209,
   "outputs": [
    {
     "name": "stdout",
     "output_type": "stream",
     "text": [
      "tensor([ 0,  2,  4,  6,  8, 10,  6,  7,  8,  9])\n",
      "1\n",
      "10\n"
     ]
    }
   ],
   "source": [
    "# Useful operations for indexing\n",
    "print(\n",
    "    torch.where(x > 5, x, x * 2)\n",
    ")  # gives [0, 2, 4, 6, 8, 10, 6, 7, 8, 9], all values x > 5 yield x, else x*2\n",
    "x = torch.tensor([0, 0, 1, 2, 2, 3, 4]).unique()  # x = [0, 1, 2, 3, 4]\n",
    "print(\n",
    "    x.ndimension()\n",
    ")  # The number of dimensions, in this case 1. if x.shape is 5x5x5 ndim would be 3\n",
    "x = torch.arange(10)\n",
    "print(\n",
    "    x.numel()\n",
    ")  # The number of elements in x (in this case it's trivial because it's just a vector)\n"
   ],
   "metadata": {
    "collapsed": false
   }
  },
  {
   "cell_type": "markdown",
   "source": [
    "## Reshaping"
   ],
   "metadata": {
    "collapsed": false
   }
  },
  {
   "cell_type": "code",
   "execution_count": 215,
   "outputs": [
    {
     "name": "stdout",
     "output_type": "stream",
     "text": [
      "torch.Size([10, 8, 8, 12])\n"
     ]
    }
   ],
   "source": [
    "batch_size = 10\n",
    "image_width = 8\n",
    "image_height = 8\n",
    "features = 12\n",
    "\n",
    "x = torch.rand((batch_size, image_width, image_height, features))\n",
    "print(x.shape)"
   ],
   "metadata": {
    "collapsed": false
   }
  },
  {
   "cell_type": "code",
   "execution_count": 217,
   "outputs": [
    {
     "data": {
      "text/plain": "torch.Size([8, 8, 10, 12])"
     },
     "execution_count": 217,
     "metadata": {},
     "output_type": "execute_result"
    }
   ],
   "source": [
    "# You can reshape as long as the old array firs into the new dimension\n",
    "x.reshape(image_width, image_height, batch_size, features).shape"
   ],
   "metadata": {
    "collapsed": false
   }
  },
  {
   "cell_type": "code",
   "execution_count": 220,
   "outputs": [
    {
     "name": "stdout",
     "output_type": "stream",
     "text": [
      "torch.Size([10, 8, 8, 12])\n",
      "torch.Size([20, 8, 8, 12])\n"
     ]
    }
   ],
   "source": [
    "print (x.shape)\n",
    "print (torch.cat((x,x),dim=0).shape) # Concatenated along the first dimension, that is, double the batch size"
   ],
   "metadata": {
    "collapsed": false
   }
  },
  {
   "cell_type": "code",
   "execution_count": 222,
   "outputs": [
    {
     "name": "stdout",
     "output_type": "stream",
     "text": [
      "torch.Size([10, 8, 8, 12])\n",
      "torch.Size([10, 16, 8, 12])\n"
     ]
    }
   ],
   "source": [
    "print (x.shape)\n",
    "print (torch.cat((x,x),dim=1).shape) # Concatenated along the first dimension, that is, double the image width"
   ],
   "metadata": {
    "collapsed": false
   }
  },
  {
   "cell_type": "code",
   "execution_count": 223,
   "outputs": [],
   "source": [],
   "metadata": {
    "collapsed": false
   }
  },
  {
   "cell_type": "code",
   "execution_count": 227,
   "outputs": [],
   "source": [
    "# Invalid operation! Because all the dimensions must match except for the one being concatenated\n",
    "\n",
    "# x1 = torch.rand((batch_size, image_width, image_height, features))\n",
    "# y1 = torch.rand((image_width, image_height, features, batch_size))\n",
    "# torch.cat((x1,y1),dim=1)"
   ],
   "metadata": {
    "collapsed": false
   }
  },
  {
   "cell_type": "code",
   "execution_count": 244,
   "outputs": [
    {
     "name": "stdout",
     "output_type": "stream",
     "text": [
      "torch.Size([10, 8, 8, 12])\n",
      "torch.Size([10, 8, 12, 8])\n"
     ]
    }
   ],
   "source": [
    "# Change the dimensions positions\n",
    "print(x.shape)\n",
    "print(x.permute(0, 2, 3, 1).shape)"
   ],
   "metadata": {
    "collapsed": false
   }
  },
  {
   "cell_type": "markdown",
   "source": [
    "# Squeeze"
   ],
   "metadata": {
    "collapsed": false
   }
  },
  {
   "cell_type": "code",
   "execution_count": 254,
   "outputs": [
    {
     "name": "stdout",
     "output_type": "stream",
     "text": [
      "tensor([0, 1, 2, 3, 4, 5, 6, 7, 8, 9])\n",
      "torch.Size([10])\n",
      "torch.Size([1, 10])\n",
      "tensor([[0, 1, 2, 3, 4, 5, 6, 7, 8, 9]])\n",
      "torch.Size([10, 1])\n",
      "tensor([[0],\n",
      "        [1],\n",
      "        [2],\n",
      "        [3],\n",
      "        [4],\n",
      "        [5],\n",
      "        [6],\n",
      "        [7],\n",
      "        [8],\n",
      "        [9]])\n"
     ]
    }
   ],
   "source": [
    "x1 = torch.arange(10)\n",
    "print(x1)\n",
    "print(x1.shape)\n",
    "print(x1.unsqueeze(0).shape)\n",
    "print(x1.unsqueeze(0))\n",
    "print(x1.unsqueeze(1).shape)\n",
    "print(x1.unsqueeze(1))"
   ],
   "metadata": {
    "collapsed": false
   }
  },
  {
   "cell_type": "code",
   "execution_count": 265,
   "outputs": [
    {
     "name": "stdout",
     "output_type": "stream",
     "text": [
      "tensor([[0, 1, 2, 3, 4, 5, 6, 7, 8, 9]])\n",
      "torch.Size([1, 10])\n",
      "torch.Size([10])\n",
      "tensor([0, 1, 2, 3, 4, 5, 6, 7, 8, 9])\n",
      "torch.Size([1, 10, 1])\n",
      "tensor([[[0],\n",
      "         [1],\n",
      "         [2],\n",
      "         [3],\n",
      "         [4],\n",
      "         [5],\n",
      "         [6],\n",
      "         [7],\n",
      "         [8],\n",
      "         [9]]])\n"
     ]
    }
   ],
   "source": [
    "x1 = torch.arange(10).unsqueeze(0)\n",
    "print(x1)\n",
    "print(x1.shape)\n",
    "print(x1.squeeze(0).shape)\n",
    "print(x1.squeeze(0))\n",
    "\n",
    "print(x1.unsqueeze(-1).shape)\n",
    "print(x1.unsqueeze(-1))"
   ],
   "metadata": {
    "collapsed": false
   }
  },
  {
   "cell_type": "code",
   "execution_count": null,
   "outputs": [],
   "source": [],
   "metadata": {
    "collapsed": false
   }
  }
 ],
 "metadata": {
  "kernelspec": {
   "display_name": "Python 3",
   "language": "python",
   "name": "python3"
  },
  "language_info": {
   "codemirror_mode": {
    "name": "ipython",
    "version": 2
   },
   "file_extension": ".py",
   "mimetype": "text/x-python",
   "name": "python",
   "nbconvert_exporter": "python",
   "pygments_lexer": "ipython2",
   "version": "2.7.6"
  }
 },
 "nbformat": 4,
 "nbformat_minor": 0
}
